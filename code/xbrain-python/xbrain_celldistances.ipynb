{
 "cells": [
  {
   "cell_type": "code",
   "execution_count": 1,
   "metadata": {
    "collapsed": false
   },
   "outputs": [],
   "source": [
    "import scipy.io as sio\n",
    "import scipy.spatial.distance as distance\n",
    "import numpy as np\n",
    "%matplotlib inline\n",
    "import matplotlib.pyplot as plt"
   ]
  },
  {
   "cell_type": "code",
   "execution_count": 2,
   "metadata": {
    "collapsed": true
   },
   "outputs": [],
   "source": [
    "data = sio.loadmat('/Users/graywr1/code/xbrainnd/results/centroids_rfr1.mat')"
   ]
  },
  {
   "cell_type": "code",
   "execution_count": 3,
   "metadata": {
    "collapsed": false
   },
   "outputs": [],
   "source": [
    "centroids = data['Centroids']"
   ]
  },
  {
   "cell_type": "code",
   "execution_count": 4,
   "metadata": {
    "collapsed": true
   },
   "outputs": [],
   "source": [
    "centroids = centroids[centroids[:,3] >= 0.47,:]\n"
   ]
  },
  {
   "cell_type": "code",
   "execution_count": 5,
   "metadata": {
    "collapsed": false
   },
   "outputs": [
    {
     "data": {
      "text/plain": [
       "(40179, 4)"
      ]
     },
     "execution_count": 5,
     "metadata": {},
     "output_type": "execute_result"
    }
   ],
   "source": [
    "np.shape(centroids)"
   ]
  },
  {
   "cell_type": "code",
   "execution_count": 6,
   "metadata": {
    "collapsed": false
   },
   "outputs": [],
   "source": [
    "dist = distance.cdist(centroids[:,0:3],centroids[:,0:3])"
   ]
  },
  {
   "cell_type": "code",
   "execution_count": 7,
   "metadata": {
    "collapsed": false
   },
   "outputs": [],
   "source": [
    "dist[dist == 0] = 999 # TODO with something better but probably ok\n",
    "dmin = dist.min(axis=0)"
   ]
  },
  {
   "cell_type": "code",
   "execution_count": 8,
   "metadata": {
    "collapsed": false
   },
   "outputs": [
    {
     "data": {
      "image/png": "[encoded data removed]",
      "text/plain": [
       "<matplotlib.figure.Figure at 0x1089c5950>"
      ]
     },
     "metadata": {},
     "output_type": "display_data"
    }
   ],
   "source": [
    "plt.hist(np.asarray(dmin),'fd')\n",
    "plt.savefig('xbrain_celldistance_histogram.png',dpi=600)"
   ]
  },
  {
   "cell_type": "code",
   "execution_count": 10,
   "metadata": {
    "collapsed": false
   },
   "outputs": [
    {
     "data": {
      "image/png": "[encoded data removed]",
      "text/plain": [
       "<matplotlib.figure.Figure at 0x40e28d850>"
      ]
     },
     "metadata": {},
     "output_type": "display_data"
    }
   ],
   "source": [
    "plt.hist(np.asarray(dmin),'fd')\n",
    "plt.savefig('xbrain_celldistance_histogram.svg',dpi=600)"
   ]
  },
  {
   "cell_type": "code",
   "execution_count": 14,
   "metadata": {
    "collapsed": false
   },
   "outputs": [],
   "source": [
    "a, b = np.histogram(np.asarray(dmin),'fd')\n"
   ]
  },
  {
   "cell_type": "code",
   "execution_count": 19,
   "metadata": {
    "collapsed": false
   },
   "outputs": [
    {
     "name": "stdout",
     "output_type": "stream",
     "text": [
      "23.1788023722\n",
      "6.87598514848\n"
     ]
    }
   ],
   "source": [
    "print np.mean(dmin)\n",
    "print np.std(dmin)"
   ]
  },
  {
   "cell_type": "code",
   "execution_count": 29,
   "metadata": {
    "collapsed": false
   },
   "outputs": [
    {
     "name": "stdout",
     "output_type": "stream",
     "text": [
      "19.6577961093\n",
      "20.0967032193\n",
      "19.8772496643\n"
     ]
    }
   ],
   "source": [
    "idx = np.where(a == np.max(a))[0][0]\n",
    "print b[idx]\n",
    "print b[idx+1]\n",
    "print 1.0*(b[idx] + b[idx+1])/2"
   ]
  },
  {
   "cell_type": "code",
   "execution_count": 23,
   "metadata": {
    "collapsed": false
   },
   "outputs": [
    {
     "data": {
      "text/plain": [
       "array([   8.24621125,    8.68511836,    9.12402547,    9.56293258,\n",
       "         10.00183969,   10.4407468 ,   10.87965391,   11.31856102,\n",
       "         11.75746813,   12.19637524,   12.63528235,   13.07418946,\n",
       "         13.51309657,   13.95200368,   14.39091079,   14.8298179 ,\n",
       "         15.26872501,   15.70763212,   16.14653923,   16.58544634,\n",
       "         17.02435345,   17.46326056,   17.90216767,   18.34107478,\n",
       "         18.77998189,   19.218889  ,   19.65779611,   20.09670322,\n",
       "         20.53561033,   20.97451744,   21.41342455,   21.85233166,\n",
       "         22.29123877,   22.73014588,   23.16905299,   23.6079601 ,\n",
       "         24.04686721,   24.48577432,   24.92468143,   25.36358854,\n",
       "         25.80249565,   26.24140276,   26.68030987,   27.11921698,\n",
       "         27.55812409,   27.9970312 ,   28.43593831,   28.87484542,\n",
       "         29.31375253,   29.75265964,   30.19156675,   30.63047386,\n",
       "         31.06938097,   31.50828808,   31.94719519,   32.3861023 ,\n",
       "         32.82500941,   33.26391652,   33.70282363,   34.14173074,\n",
       "         34.58063785,   35.01954496,   35.45845207,   35.89735918,\n",
       "         36.33626629,   36.7751734 ,   37.21408051,   37.65298762,\n",
       "         38.09189473,   38.53080184,   38.96970895,   39.40861606,\n",
       "         39.84752317,   40.28643028,   40.72533739,   41.1642445 ,\n",
       "         41.60315161,   42.04205872,   42.48096583,   42.91987294,\n",
       "         43.35878005,   43.79768716,   44.23659427,   44.67550138,\n",
       "         45.11440849,   45.5533156 ,   45.9922227 ,   46.43112981,\n",
       "         46.87003692,   47.30894403,   47.74785114,   48.18675825,\n",
       "         48.62566536,   49.06457247,   49.50347958,   49.94238669,\n",
       "         50.3812938 ,   50.82020091,   51.25910802,   51.69801513,\n",
       "         52.13692224,   52.57582935,   53.01473646,   53.45364357,\n",
       "         53.89255068,   54.33145779,   54.7703649 ,   55.20927201,\n",
       "         55.64817912,   56.08708623,   56.52599334,   56.96490045,\n",
       "         57.40380756,   57.84271467,   58.28162178,   58.72052889,\n",
       "         59.159436  ,   59.59834311,   60.03725022,   60.47615733,\n",
       "         60.91506444,   61.35397155,   61.79287866,   62.23178577,\n",
       "         62.67069288,   63.10959999,   63.5485071 ,   63.98741421,\n",
       "         64.42632132,   64.86522843,   65.30413554,   65.74304265,\n",
       "         66.18194976,   66.62085687,   67.05976398,   67.49867109,\n",
       "         67.9375782 ,   68.37648531,   68.81539242,   69.25429953,\n",
       "         69.69320664,   70.13211375,   70.57102086,   71.00992797,\n",
       "         71.44883508,   71.88774219,   72.3266493 ,   72.76555641,\n",
       "         73.20446352,   73.64337063,   74.08227774,   74.52118485,\n",
       "         74.96009196,   75.39899907,   75.83790618,   76.27681329,\n",
       "         76.7157204 ,   77.15462751,   77.59353462,   78.03244173,\n",
       "         78.47134884,   78.91025595,   79.34916306,   79.78807017,\n",
       "         80.22697728,   80.66588439,   81.1047915 ,   81.54369861,\n",
       "         81.98260572,   82.42151283,   82.86041994,   83.29932705,\n",
       "         83.73823416,   84.17714127,   84.61604838,   85.05495549,\n",
       "         85.4938626 ,   85.93276971,   86.37167682,   86.81058393,\n",
       "         87.24949104,   87.68839815,   88.12730526,   88.56621237,\n",
       "         89.00511948,   89.44402659,   89.8829337 ,   90.32184081,\n",
       "         90.76074792,   91.19965503,   91.63856214,   92.07746925,\n",
       "         92.51637636,   92.95528347,   93.39419058,   93.83309769,\n",
       "         94.2720048 ,   94.71091191,   95.14981902,   95.58872613,\n",
       "         96.02763324,   96.46654035,   96.90544746,   97.34435457,\n",
       "         97.78326168,   98.22216879,   98.6610759 ,   99.09998301,\n",
       "         99.53889012,   99.97779723,  100.41670434,  100.85561145,\n",
       "        101.29451856,  101.73342567,  102.17233278,  102.61123989,\n",
       "        103.050147  ,  103.48905411,  103.92796122,  104.36686833,\n",
       "        104.80577544,  105.24468255,  105.68358966,  106.12249677,\n",
       "        106.56140387,  107.00031098,  107.43921809,  107.8781252 ,\n",
       "        108.31703231,  108.75593942,  109.19484653,  109.63375364,\n",
       "        110.07266075,  110.51156786,  110.95047497,  111.38938208,\n",
       "        111.82828919,  112.2671963 ,  112.70610341,  113.14501052,\n",
       "        113.58391763,  114.02282474,  114.46173185,  114.90063896,\n",
       "        115.33954607,  115.77845318,  116.21736029,  116.6562674 ,\n",
       "        117.09517451,  117.53408162,  117.97298873,  118.41189584,\n",
       "        118.85080295,  119.28971006,  119.72861717,  120.16752428,\n",
       "        120.60643139,  121.0453385 ,  121.48424561,  121.92315272,\n",
       "        122.36205983,  122.80096694,  123.23987405,  123.67878116,\n",
       "        124.11768827,  124.55659538,  124.99550249,  125.4344096 ,\n",
       "        125.87331671,  126.31222382,  126.75113093,  127.19003804,\n",
       "        127.62894515,  128.06785226,  128.50675937,  128.94566648,\n",
       "        129.38457359,  129.8234807 ,  130.26238781,  130.70129492,\n",
       "        131.14020203,  131.57910914,  132.01801625,  132.45692336,\n",
       "        132.89583047,  133.33473758,  133.77364469,  134.2125518 ,\n",
       "        134.65145891,  135.09036602,  135.52927313,  135.96818024,\n",
       "        136.40708735,  136.84599446,  137.28490157,  137.72380868,\n",
       "        138.16271579,  138.6016229 ,  139.04053001,  139.47943712,\n",
       "        139.91834423,  140.35725134,  140.79615845,  141.23506556,\n",
       "        141.67397267,  142.11287978,  142.55178689,  142.990694  ,\n",
       "        143.42960111,  143.86850822,  144.30741533,  144.74632244,\n",
       "        145.18522955,  145.62413666,  146.06304377,  146.50195088,\n",
       "        146.94085799,  147.3797651 ,  147.81867221,  148.25757932,\n",
       "        148.69648643,  149.13539354,  149.57430065,  150.01320776,\n",
       "        150.45211487,  150.89102198,  151.32992909,  151.7688362 ,\n",
       "        152.20774331,  152.64665042,  153.08555753,  153.52446464,\n",
       "        153.96337175,  154.40227886,  154.84118597,  155.28009308,\n",
       "        155.71900019,  156.1579073 ,  156.59681441,  157.03572152,\n",
       "        157.47462863,  157.91353574,  158.35244285,  158.79134996,\n",
       "        159.23025707,  159.66916418,  160.10807129,  160.5469784 ,\n",
       "        160.98588551,  161.42479262,  161.86369973,  162.30260684,\n",
       "        162.74151395,  163.18042106,  163.61932817,  164.05823528,\n",
       "        164.49714239,  164.9360495 ,  165.37495661,  165.81386372,\n",
       "        166.25277083,  166.69167794,  167.13058504,  167.56949215,\n",
       "        168.00839926,  168.44730637,  168.88621348,  169.32512059,\n",
       "        169.7640277 ,  170.20293481,  170.64184192,  171.08074903,\n",
       "        171.51965614,  171.95856325,  172.39747036,  172.83637747,\n",
       "        173.27528458,  173.71419169,  174.1530988 ,  174.59200591,\n",
       "        175.03091302,  175.46982013,  175.90872724,  176.34763435,\n",
       "        176.78654146,  177.22544857,  177.66435568,  178.10326279,\n",
       "        178.5421699 ,  178.98107701,  179.41998412,  179.85889123,\n",
       "        180.29779834,  180.73670545,  181.17561256,  181.61451967,\n",
       "        182.05342678,  182.49233389,  182.931241  ,  183.37014811,\n",
       "        183.80905522,  184.24796233,  184.68686944,  185.12577655,\n",
       "        185.56468366,  186.00359077,  186.44249788,  186.88140499,\n",
       "        187.3203121 ,  187.75921921,  188.19812632,  188.63703343,\n",
       "        189.07594054,  189.51484765,  189.95375476,  190.39266187,\n",
       "        190.83156898,  191.27047609,  191.7093832 ,  192.14829031,\n",
       "        192.58719742,  193.02610453,  193.46501164,  193.90391875,\n",
       "        194.34282586,  194.78173297,  195.22064008,  195.65954719,\n",
       "        196.0984543 ,  196.53736141,  196.97626852,  197.41517563,\n",
       "        197.85408274,  198.29298985,  198.73189696,  199.17080407,\n",
       "        199.60971118,  200.04861829,  200.4875254 ,  200.92643251,\n",
       "        201.36533962])"
      ]
     },
     "execution_count": 23,
     "metadata": {},
     "output_type": "execute_result"
    }
   ],
   "source": [
    "b"
   ]
  },
  {
   "cell_type": "code",
   "execution_count": null,
   "metadata": {
    "collapsed": true
   },
   "outputs": [],
   "source": []
  }
 ],
 "metadata": {
  "kernelspec": {
   "display_name": "Python 2",
   "language": "python",
   "name": "python2"
  },
  "language_info": {
   "codemirror_mode": {
    "name": "ipython",
    "version": 2
   },
   "file_extension": ".py",
   "mimetype": "text/x-python",
   "name": "python",
   "nbconvert_exporter": "python",
   "pygments_lexer": "ipython2",
   "version": "2.7.10"
  },
  "widgets": {
   "state": {},
   "version": "1.1.2"
  }
 },
 "nbformat": 4,
 "nbformat_minor": 0
}
