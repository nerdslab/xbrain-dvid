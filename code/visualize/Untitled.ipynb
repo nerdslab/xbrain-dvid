{
 "cells": [
  {
   "cell_type": "code",
   "execution_count": 1,
   "metadata": {
    "collapsed": false
   },
   "outputs": [
    {
     "ename": "ImportError",
     "evalue": "No module named 'mcubes'",
     "output_type": "error",
     "traceback": [
      "\u001b[0;31m---------------------------------------------------------------------------\u001b[0m",
      "\u001b[0;31mImportError\u001b[0m                               Traceback (most recent call last)",
      "\u001b[0;32m<ipython-input-1-b8f57fdbac12>\u001b[0m in \u001b[0;36m<module>\u001b[0;34m()\u001b[0m\n\u001b[1;32m     11\u001b[0m \u001b[0;34m\u001b[0m\u001b[0m\n\u001b[1;32m     12\u001b[0m \u001b[0;32mimport\u001b[0m \u001b[0mndio\u001b[0m\u001b[0;34m.\u001b[0m\u001b[0mremote\u001b[0m\u001b[0;34m.\u001b[0m\u001b[0mneurodata\u001b[0m \u001b[0;32mas\u001b[0m \u001b[0mnd\u001b[0m\u001b[0;34m\u001b[0m\u001b[0m\n\u001b[0;32m---> 13\u001b[0;31m \u001b[0;32mimport\u001b[0m \u001b[0mndio\u001b[0m\u001b[0;34m.\u001b[0m\u001b[0mutils\u001b[0m\u001b[0;34m.\u001b[0m\u001b[0mmesh\u001b[0m \u001b[0;32mas\u001b[0m \u001b[0mndm\u001b[0m\u001b[0;34m\u001b[0m\u001b[0m\n\u001b[0m\u001b[1;32m     14\u001b[0m \u001b[0;34m\u001b[0m\u001b[0m\n\u001b[1;32m     15\u001b[0m \u001b[0mparser\u001b[0m \u001b[0;34m=\u001b[0m \u001b[0margparse\u001b[0m\u001b[0;34m.\u001b[0m\u001b[0mArgumentParser\u001b[0m\u001b[0;34m(\u001b[0m\u001b[0mdescription\u001b[0m\u001b[0;34m=\u001b[0m\u001b[0;34m'Create a 3D mesh from an ndio download.'\u001b[0m\u001b[0;34m)\u001b[0m\u001b[0;34m\u001b[0m\u001b[0m\n",
      "\u001b[0;32m/Users/evadyer/anaconda/lib/python3.5/site-packages/ndio/utils/mesh.py\u001b[0m in \u001b[0;36m<module>\u001b[0;34m()\u001b[0m\n\u001b[1;32m      1\u001b[0m \u001b[0;32mfrom\u001b[0m \u001b[0m__future__\u001b[0m \u001b[0;32mimport\u001b[0m \u001b[0mabsolute_import\u001b[0m\u001b[0;34m\u001b[0m\u001b[0m\n\u001b[0;32m----> 2\u001b[0;31m \u001b[0;32mimport\u001b[0m \u001b[0mmcubes\u001b[0m\u001b[0;34m\u001b[0m\u001b[0m\n\u001b[0m\u001b[1;32m      3\u001b[0m \u001b[0;34m\u001b[0m\u001b[0m\n\u001b[1;32m      4\u001b[0m \u001b[0;34m\u001b[0m\u001b[0m\n\u001b[1;32m      5\u001b[0m \u001b[0;32mdef\u001b[0m \u001b[0mexport_dae\u001b[0m\u001b[0;34m(\u001b[0m\u001b[0mfilename\u001b[0m\u001b[0;34m,\u001b[0m \u001b[0mcutout\u001b[0m\u001b[0;34m,\u001b[0m \u001b[0mlevel\u001b[0m\u001b[0;34m=\u001b[0m\u001b[0;36m0\u001b[0m\u001b[0;34m)\u001b[0m\u001b[0;34m:\u001b[0m\u001b[0;34m\u001b[0m\u001b[0m\n",
      "\u001b[0;31mImportError\u001b[0m: No module named 'mcubes'"
     ]
    }
   ],
   "source": [
    "#!/usr/bin/env python\n",
    "\n",
    "\"\"\"\n",
    "Written by Jordan Matelsky (@j6k4m8)\n",
    "March 5, 2016\n",
    "\"\"\"\n",
    "\n",
    "import sys\n",
    "import os\n",
    "import argparse\n",
    "\n",
    "import ndio.remote.neurodata as nd\n",
    "import ndio.utils.mesh as ndm\n",
    "\n",
    "parser = argparse.ArgumentParser(description='Create a 3D mesh from an ndio download.')\n",
    "parser.add_argument(\"-t\", \"--token\",\n",
    "                    dest=\"token\",\n",
    "                    type=str,\n",
    "                    help=\"The name of the token to download.\")\n",
    "parser.add_argument(\"-c\", \"--channel\",\n",
    "                    dest=\"channel\",\n",
    "                    type=str,\n",
    "                    help=\"The name of the channel to download.\")\n",
    "parser.add_argument(\"-r\", \"--resolution\",\n",
    "                    dest=\"resolution\",\n",
    "                    type=int,\n",
    "                    help=\"The resolution at which to download.\")\n",
    "parser.add_argument(\"-o\", \"--outfile\",\n",
    "                    dest=\"outfile\",\n",
    "                    default=\"out.obj\",\n",
    "                    type=str,\n",
    "                    help=\"The file into which to output the .obj\")\n",
    "parser.add_argument(\"-b\", \"--bounds\",\n",
    "                    dest=\"bounds\",\n",
    "                    default=None,\n",
    "                    type=str,\n",
    "                    help=\"Bounding box to download.\")\n",
    "\n",
    "args = parser.parse_args()\n",
    "\n",
    "\n",
    "n = nd()\n",
    "if args.bounds is None:\n",
    "    s = n.get_image_size(args.token, resolution=args.resolution)\n",
    "    o = n.get_image_offset(args.token, resolution=args.resolution)\n",
    "else:\n",
    "    bounds = args.bounds.split('/')\n",
    "    o = [int(i.split(',')[0]) for i in bounds]\n",
    "    s = [int(i.split(',')[1]) for i in bounds]\n",
    "\n",
    "query = {\n",
    "    \"token\": args.token,\n",
    "    \"channel\": args.channel,\n",
    "    \"x_start\": o[0],\n",
    "    \"x_stop\":  s[0],\n",
    "    \"y_start\": o[1],\n",
    "    \"y_stop\":  s[1],\n",
    "    \"z_start\": o[2],\n",
    "    \"z_stop\":  s[2],\n",
    "    \"resolution\": args.resolution\n",
    "}\n",
    "\n",
    "volume = n.get_cutout(**query)\n",
    "ndm.export_obj(args.outfile, volume)"
   ]
  },
  {
   "cell_type": "code",
   "execution_count": null,
   "metadata": {
    "collapsed": true
   },
   "outputs": [],
   "source": []
  }
 ],
 "metadata": {
  "kernelspec": {
   "display_name": "Python 3",
   "language": "python",
   "name": "python3"
  },
  "language_info": {
   "codemirror_mode": {
    "name": "ipython",
    "version": 3
   },
   "file_extension": ".py",
   "mimetype": "text/x-python",
   "name": "python",
   "nbconvert_exporter": "python",
   "pygments_lexer": "ipython3",
   "version": "3.5.1"
  }
 },
 "nbformat": 4,
 "nbformat_minor": 0
}
