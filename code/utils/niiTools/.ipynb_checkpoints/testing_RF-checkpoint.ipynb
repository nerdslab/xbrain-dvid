{
 "metadata": {
  "name": "",
  "signature": "sha256:5602f1ee6874a8aa820276b6241f3872801a636677cb2908d095e1c56dee2b0d"
 },
 "nbformat": 3,
 "nbformat_minor": 0,
 "worksheets": [
  {
   "cells": [
    {
     "cell_type": "heading",
     "level": 2,
     "metadata": {},
     "source": [
      "Description of the process"
     ]
    },
    {
     "cell_type": "heading",
     "level": 1,
     "metadata": {},
     "source": [
      "dsadas"
     ]
    },
    {
     "cell_type": "code",
     "collapsed": false,
     "input": [
      "%matplotlib inline\n",
      "import pandas as pd\n",
      "import numpy as np\n",
      "from sklearn import preprocessing ,feature_extraction\n",
      "\n",
      "from sklearn.ensemble import RandomForestClassifier\n",
      "from sklearn.ensemble import GradientBoostingClassifier\n",
      "from sklearn.ensemble import AdaBoostClassifier\n",
      "#from sklearn.linear_model import LogisticRegression\n",
      "from sklearn.ensemble import BaggingClassifier\n",
      "from sklearn.neighbors import KNeighborsClassifier\n",
      "#from sklearn.ensemble import ExtraTreesClassifier\n",
      "#from sklearn.naive_bayes import MultinomialNB\n",
      "\n",
      "from sklearn import preprocessing ,feature_extraction\n",
      "\n",
      "from datetime import datetime\n",
      "\n",
      "import matplotlib.pyplot as plt\n",
      "\n",
      "from sklearn.metrics import log_loss\n",
      "from sklearn.cross_validation import StratifiedKFold\n",
      "\n",
      "from sklearn.metrics import confusion_matrix"
     ],
     "language": "python",
     "metadata": {},
     "outputs": []
    },
    {
     "cell_type": "code",
     "collapsed": false,
     "input": [
      "def RF(Xr, Yr, Xt):\n",
      "    rf = RandomForestClassifier(n_estimators=50) #n_jobs=-1,bootstrap=False, min_samples_leaf=3,n_estimators=200, min_samples_split=4, criterion='entropy', max_features=27, max_depth=None)\n",
      "    #print 'fitting RF'\n",
      "    rf.fit(Xr,Yr)\n",
      "    #print 'Getting predictions'\n",
      "    Yt = rf.predict_proba(Xt)\n",
      "    #print Yt\n",
      "    FI = rf.feature_importances_\n",
      "    return Yt,FI\n",
      "\n",
      "def GBC(Xr, Yr, Xt):\n",
      "    #lr = GradientBoostingClassifier(n_estimators=500,max_depth=5)\n",
      "    lr = GradientBoostingClassifier(n_estimators=30)\n",
      "    #print 'fitting GBC'\n",
      "    lr.fit(Xr,Yr)\n",
      "    #print 'Getting predictions'\n",
      "    Yt = lr.predict_proba(Xt)\n",
      "    FI = lr.feature_importances_\n",
      "    return Yt, FI\n",
      "\n",
      "def KNN(Xr, Yr, Xt):\n",
      "    nn = KNeighborsClassifier()\n",
      "    print 'fitting NN'\n",
      "    nn.fit(Xr,Yr)\n",
      "    print 'Getting predictions'\n",
      "    Yt = nn.predict_proba(Xt)\n",
      "    FI = []\n",
      "    return Yt, FI"
     ],
     "language": "python",
     "metadata": {},
     "outputs": [],
     "prompt_number": 280
    },
    {
     "cell_type": "code",
     "collapsed": false,
     "input": [
      "def confmat(conf_a):\n",
      "    norm_conf = []\n",
      "    for i in conf_a:\n",
      "        a = 0\n",
      "        tmp_arr = []\n",
      "        a = sum(i, 0)\n",
      "        for j in i:\n",
      "            tmp_arr.append(float(j)/float(a))\n",
      "        norm_conf.append(tmp_arr)\n",
      "\n",
      "    fig = plt.figure()\n",
      "    plt.clf()\n",
      "    ax = fig.add_subplot(111)\n",
      "    ax.set_aspect(1)\n",
      "    res = ax.imshow(np.array(norm_conf), cmap=plt.cm.jet, \n",
      "                interpolation='nearest')\n",
      "\n",
      "    width = len(conf_a)\n",
      "    height = len(conf_a[0])\n",
      "\n",
      "    for x in xrange(width):\n",
      "        for y in xrange(height):\n",
      "            ax.annotate(str(conf_a[x][y]), xy=(y, x), \n",
      "                    horizontalalignment='center',\n",
      "                    verticalalignment='center')\n",
      "\n",
      "    cb = fig.colorbar(res)\n",
      "    alphabet = '0123456789'\n",
      "    plt.xticks(range(width), alphabet[:width])\n",
      "    plt.yticks(range(height), alphabet[:height])\n",
      "    plt.show() #savefig('confusion_matrix.png', format='png')"
     ],
     "language": "python",
     "metadata": {},
     "outputs": [],
     "prompt_number": 250
    },
    {
     "cell_type": "code",
     "collapsed": false,
     "input": [
      "datafiles = {}\n",
      "datafiles['train'] = 'test_4_13_featurematrix.csv'\n",
      "#datafiles['train_label'] = 'test_4_10_labels.csv'\n",
      "datafiles['test'] = 'test_4_13_testset_featurematrix.csv'\n",
      "start = datetime.now()"
     ],
     "language": "python",
     "metadata": {},
     "outputs": [],
     "prompt_number": 251
    },
    {
     "cell_type": "code",
     "collapsed": false,
     "input": [
      "print 'Loading features'\n",
      "    \n",
      "# import data\n",
      "traind = pd.read_csv(datafiles['train'])\n",
      "    \n",
      "# drop ids and get labels\n",
      "labels = traind.Labels.values\n",
      "#X_train = traind.drop('id', axis=1)\n",
      "X_train = traind.drop('Unnamed: 18', axis=1)\n",
      "X_train = X_train.drop('Mean_raw', axis=1)\n",
      "X_train = X_train.drop('Labels', axis=1)\n",
      "\n",
      "#labels = pd.read_csv(datafiles['train_label'], index_col=None, names=None)\n",
      "# encode labels \n",
      "lbl_enc = preprocessing.LabelEncoder()\n",
      "Y_train = lbl_enc.fit_transform(labels)\n",
      "\n",
      "#feature_names=np.array(X_train.columns.tolist()) \n",
      "testd = pd.read_csv(datafiles['test'])\n",
      "labels_test = testd.Labels.values\n",
      "#X_train = traind.drop('id', axis=1)\n",
      "X_test = testd.drop('Unnamed: 18', axis=1)\n",
      "X_test = X_test.drop('Mean_raw', axis=1)\n",
      "X_test = X_test.drop('Labels', axis=1)\n",
      "\n",
      "Y_test = lbl_enc.fit_transform(labels_test)\n",
      "\n",
      "X_test = preprocessing.scale(X_test.values)    \n",
      "X_train = preprocessing.scale(X_train.values)"
     ],
     "language": "python",
     "metadata": {},
     "outputs": [
      {
       "output_type": "stream",
       "stream": "stdout",
       "text": [
        "Loading features\n"
       ]
      }
     ],
     "prompt_number": 252
    },
    {
     "cell_type": "code",
     "collapsed": false,
     "input": [],
     "language": "python",
     "metadata": {},
     "outputs": [],
     "prompt_number": 206
    },
    {
     "cell_type": "code",
     "collapsed": false,
     "input": [
      "aval = {}\n",
      "aval['method'] = GBC\n",
      "print 'CV!'\n",
      "n_cv = 10\n",
      "cost_fun_cv = []\n",
      "skf = StratifiedKFold(Y_train, n_cv, shuffle=True, random_state=1)  #H#\n",
      "i=1\n",
      "\n",
      "n_classes = np.size(np.unique(Y_train))      #H#\n",
      "Y_pred_Tot=np.zeros((len(Y_train), n_classes))    #H#\n",
      "\n",
      "for train, test in skf:\n",
      "    #print '...runnning cv-fold', i, 'of', n_cv\n",
      "    i+=1\n",
      "    idx_t = test\n",
      "    idx_r = train\n",
      "    Xr = X_train[idx_r,:]\n",
      " \n",
      "    Yr = Y_train[idx_r]               \n",
      "    Xt = X_train[idx_t,:]\n",
      "                        \n",
      "    Yt_true = Y_train[idx_t]\n",
      "    Yt_pred, FI = aval['method'](Xr, Yr , Xt)\n",
      "    #print FI\n",
      "\n",
      "    Y_pred_Tot[idx_t,:]= Yt_pred  \n",
      "\n",
      "    cost_fun =log_loss(Yt_true, Yt_pred) \n",
      "    #print 'cost_fun',cost_fun\n",
      "    cost_fun_cv.append(cost_fun)\n",
      "  \n",
      "print(\"cost_fun: %0.4f (+/- %0.4f)\" % (np.mean(cost_fun_cv), np.std(cost_fun_cv)/np.sqrt(n_cv)))\n",
      "\n",
      "\n",
      "conf_arr=confusion_matrix(Y_train, np.argmax(Y_pred_Tot,axis=1))\n",
      "confmat(conf_arr)   "
     ],
     "language": "python",
     "metadata": {},
     "outputs": [
      {
       "output_type": "stream",
       "stream": "stdout",
       "text": [
        "CV!\n",
        "cost_fun: 0.2179 (+/- 0.0087)"
       ]
      },
      {
       "output_type": "stream",
       "stream": "stdout",
       "text": [
        "\n"
       ]
      },
      {
       "metadata": {},
       "output_type": "display_data",
       "png": "[encoded data removed]",
       "text": [
        "<matplotlib.figure.Figure at 0x110a10110>"
       ]
      }
     ],
     "prompt_number": 389
    },
    {
     "cell_type": "code",
     "collapsed": false,
     "input": [
      "aval = {}\n",
      "aval['method'] = GBC\n",
      "Yt_pred,FI = aval['method'](X_train, Y_train, X_test)\n",
      "Yt_pred = preprocessing.normalize(Yt_pred, norm='l1', axis=1)       \n",
      "cost_fun = log_loss(Y_test, Yt_pred) \n",
      "print(\"cost_fun: %0.4f \" % (np.mean(cost_fun)))\n",
      "conf_arr_test = confusion_matrix(Y_test, np.argmax(Yt_pred,axis=1))\n",
      "confmat(conf_arr_test)      "
     ],
     "language": "python",
     "metadata": {},
     "outputs": [
      {
       "output_type": "stream",
       "stream": "stdout",
       "text": [
        "cost_fun: 2.3182 \n"
       ]
      },
      {
       "metadata": {},
       "output_type": "display_data",
       "png": "[encoded data removed]",
       "text": [
        "<matplotlib.figure.Figure at 0x110722e90>"
       ]
      }
     ],
     "prompt_number": 390
    },
    {
     "cell_type": "code",
     "collapsed": false,
     "input": [
      "sample = pd.read_csv(datafiles['test'])          \n",
      "    \n",
      "#Yt_pred,FI = aval['method'](X_train, Y_train, X_test)\n",
      "Yt_pred_proc = preprocessing.normalize(Yt_pred, norm='l1', axis=1)       \n",
      "\n",
      "aux = np.transpose(np.atleast_2d(np.argmax(Yt_pred_proc,axis=1)+1))\n",
      "File = np.concatenate((Yt_pred, aux), axis=1)                       \n",
      "File = pd.DataFrame(File,  columns=['Nucleus','Vessels','Cell Body','Progress','Background','Predicted'])\n",
      "File.to_csv('test_4_13_testset_predicions.csv', index_label='id')\n",
      "File"
     ],
     "language": "python",
     "metadata": {},
     "outputs": [
      {
       "html": [
        "<div style=\"max-height:1000px;max-width:1500px;overflow:auto;\">\n",
        "<table border=\"1\" class=\"dataframe\">\n",
        "  <thead>\n",
        "    <tr style=\"text-align: right;\">\n",
        "      <th></th>\n",
        "      <th>Nucleus</th>\n",
        "      <th>Vessels</th>\n",
        "      <th>Cell Body</th>\n",
        "      <th>Progress</th>\n",
        "      <th>Background</th>\n",
        "      <th>Predicted</th>\n",
        "    </tr>\n",
        "  </thead>\n",
        "  <tbody>\n",
        "    <tr>\n",
        "      <th>0  </th>\n",
        "      <td> 0.004346</td>\n",
        "      <td> 0.907481</td>\n",
        "      <td> 0.081508</td>\n",
        "      <td> 0.002947</td>\n",
        "      <td> 0.003718</td>\n",
        "      <td> 2</td>\n",
        "    </tr>\n",
        "    <tr>\n",
        "      <th>1  </th>\n",
        "      <td> 0.004346</td>\n",
        "      <td> 0.907481</td>\n",
        "      <td> 0.081508</td>\n",
        "      <td> 0.002947</td>\n",
        "      <td> 0.003718</td>\n",
        "      <td> 2</td>\n",
        "    </tr>\n",
        "    <tr>\n",
        "      <th>2  </th>\n",
        "      <td> 0.004588</td>\n",
        "      <td> 0.911348</td>\n",
        "      <td> 0.077709</td>\n",
        "      <td> 0.002810</td>\n",
        "      <td> 0.003545</td>\n",
        "      <td> 2</td>\n",
        "    </tr>\n",
        "    <tr>\n",
        "      <th>3  </th>\n",
        "      <td> 0.002495</td>\n",
        "      <td> 0.942222</td>\n",
        "      <td> 0.050872</td>\n",
        "      <td> 0.001951</td>\n",
        "      <td> 0.002461</td>\n",
        "      <td> 2</td>\n",
        "    </tr>\n",
        "    <tr>\n",
        "      <th>4  </th>\n",
        "      <td> 0.004145</td>\n",
        "      <td> 0.911753</td>\n",
        "      <td> 0.077744</td>\n",
        "      <td> 0.002811</td>\n",
        "      <td> 0.003546</td>\n",
        "      <td> 2</td>\n",
        "    </tr>\n",
        "    <tr>\n",
        "      <th>5  </th>\n",
        "      <td> 0.004976</td>\n",
        "      <td> 0.894067</td>\n",
        "      <td> 0.093325</td>\n",
        "      <td> 0.003375</td>\n",
        "      <td> 0.004257</td>\n",
        "      <td> 2</td>\n",
        "    </tr>\n",
        "    <tr>\n",
        "      <th>6  </th>\n",
        "      <td> 0.004374</td>\n",
        "      <td> 0.894608</td>\n",
        "      <td> 0.093381</td>\n",
        "      <td> 0.003377</td>\n",
        "      <td> 0.004260</td>\n",
        "      <td> 2</td>\n",
        "    </tr>\n",
        "    <tr>\n",
        "      <th>7  </th>\n",
        "      <td> 0.297120</td>\n",
        "      <td> 0.055313</td>\n",
        "      <td> 0.583388</td>\n",
        "      <td> 0.026746</td>\n",
        "      <td> 0.037433</td>\n",
        "      <td> 3</td>\n",
        "    </tr>\n",
        "    <tr>\n",
        "      <th>8  </th>\n",
        "      <td> 0.321268</td>\n",
        "      <td> 0.053399</td>\n",
        "      <td> 0.563202</td>\n",
        "      <td> 0.025821</td>\n",
        "      <td> 0.036311</td>\n",
        "      <td> 3</td>\n",
        "    </tr>\n",
        "    <tr>\n",
        "      <th>9  </th>\n",
        "      <td> 0.285289</td>\n",
        "      <td> 0.060853</td>\n",
        "      <td> 0.592235</td>\n",
        "      <td> 0.025681</td>\n",
        "      <td> 0.035942</td>\n",
        "      <td> 3</td>\n",
        "    </tr>\n",
        "    <tr>\n",
        "      <th>10 </th>\n",
        "      <td> 0.308901</td>\n",
        "      <td> 0.058828</td>\n",
        "      <td> 0.572531</td>\n",
        "      <td> 0.024827</td>\n",
        "      <td> 0.034913</td>\n",
        "      <td> 3</td>\n",
        "    </tr>\n",
        "    <tr>\n",
        "      <th>11 </th>\n",
        "      <td> 0.312638</td>\n",
        "      <td> 0.077058</td>\n",
        "      <td> 0.532269</td>\n",
        "      <td> 0.032520</td>\n",
        "      <td> 0.045514</td>\n",
        "      <td> 3</td>\n",
        "    </tr>\n",
        "    <tr>\n",
        "      <th>12 </th>\n",
        "      <td> 0.340128</td>\n",
        "      <td> 0.067159</td>\n",
        "      <td> 0.517014</td>\n",
        "      <td> 0.031588</td>\n",
        "      <td> 0.044111</td>\n",
        "      <td> 3</td>\n",
        "    </tr>\n",
        "    <tr>\n",
        "      <th>13 </th>\n",
        "      <td> 0.268693</td>\n",
        "      <td> 0.056367</td>\n",
        "      <td> 0.611404</td>\n",
        "      <td> 0.026512</td>\n",
        "      <td> 0.037023</td>\n",
        "      <td> 3</td>\n",
        "    </tr>\n",
        "    <tr>\n",
        "      <th>14 </th>\n",
        "      <td> 0.189977</td>\n",
        "      <td> 0.082441</td>\n",
        "      <td> 0.634659</td>\n",
        "      <td> 0.038776</td>\n",
        "      <td> 0.054148</td>\n",
        "      <td> 3</td>\n",
        "    </tr>\n",
        "    <tr>\n",
        "      <th>15 </th>\n",
        "      <td> 0.189977</td>\n",
        "      <td> 0.082441</td>\n",
        "      <td> 0.634659</td>\n",
        "      <td> 0.038776</td>\n",
        "      <td> 0.054148</td>\n",
        "      <td> 3</td>\n",
        "    </tr>\n",
        "    <tr>\n",
        "      <th>16 </th>\n",
        "      <td> 0.081083</td>\n",
        "      <td> 0.055575</td>\n",
        "      <td> 0.802391</td>\n",
        "      <td> 0.024448</td>\n",
        "      <td> 0.036503</td>\n",
        "      <td> 3</td>\n",
        "    </tr>\n",
        "    <tr>\n",
        "      <th>17 </th>\n",
        "      <td> 0.077146</td>\n",
        "      <td> 0.061982</td>\n",
        "      <td> 0.811796</td>\n",
        "      <td> 0.023141</td>\n",
        "      <td> 0.025935</td>\n",
        "      <td> 3</td>\n",
        "    </tr>\n",
        "    <tr>\n",
        "      <th>18 </th>\n",
        "      <td> 0.050456</td>\n",
        "      <td> 0.181243</td>\n",
        "      <td> 0.636383</td>\n",
        "      <td> 0.053748</td>\n",
        "      <td> 0.078170</td>\n",
        "      <td> 3</td>\n",
        "    </tr>\n",
        "    <tr>\n",
        "      <th>19 </th>\n",
        "      <td> 0.014258</td>\n",
        "      <td> 0.939852</td>\n",
        "      <td> 0.023000</td>\n",
        "      <td> 0.009435</td>\n",
        "      <td> 0.013455</td>\n",
        "      <td> 2</td>\n",
        "    </tr>\n",
        "    <tr>\n",
        "      <th>20 </th>\n",
        "      <td> 0.012211</td>\n",
        "      <td> 0.942240</td>\n",
        "      <td> 0.022672</td>\n",
        "      <td> 0.008080</td>\n",
        "      <td> 0.014796</td>\n",
        "      <td> 2</td>\n",
        "    </tr>\n",
        "    <tr>\n",
        "      <th>21 </th>\n",
        "      <td> 0.012188</td>\n",
        "      <td> 0.940402</td>\n",
        "      <td> 0.022628</td>\n",
        "      <td> 0.008064</td>\n",
        "      <td> 0.016718</td>\n",
        "      <td> 2</td>\n",
        "    </tr>\n",
        "    <tr>\n",
        "      <th>22 </th>\n",
        "      <td> 0.014193</td>\n",
        "      <td> 0.935567</td>\n",
        "      <td> 0.024181</td>\n",
        "      <td> 0.009392</td>\n",
        "      <td> 0.016667</td>\n",
        "      <td> 2</td>\n",
        "    </tr>\n",
        "    <tr>\n",
        "      <th>23 </th>\n",
        "      <td> 0.029351</td>\n",
        "      <td> 0.860960</td>\n",
        "      <td> 0.050005</td>\n",
        "      <td> 0.019422</td>\n",
        "      <td> 0.040263</td>\n",
        "      <td> 2</td>\n",
        "    </tr>\n",
        "    <tr>\n",
        "      <th>24 </th>\n",
        "      <td> 0.014215</td>\n",
        "      <td> 0.936989</td>\n",
        "      <td> 0.025976</td>\n",
        "      <td> 0.009406</td>\n",
        "      <td> 0.013414</td>\n",
        "      <td> 2</td>\n",
        "    </tr>\n",
        "    <tr>\n",
        "      <th>25 </th>\n",
        "      <td> 0.003938</td>\n",
        "      <td> 0.935750</td>\n",
        "      <td> 0.053245</td>\n",
        "      <td> 0.002704</td>\n",
        "      <td> 0.004363</td>\n",
        "      <td> 2</td>\n",
        "    </tr>\n",
        "    <tr>\n",
        "      <th>26 </th>\n",
        "      <td> 0.003865</td>\n",
        "      <td> 0.961657</td>\n",
        "      <td> 0.029973</td>\n",
        "      <td> 0.001979</td>\n",
        "      <td> 0.002526</td>\n",
        "      <td> 2</td>\n",
        "    </tr>\n",
        "    <tr>\n",
        "      <th>27 </th>\n",
        "      <td> 0.004225</td>\n",
        "      <td> 0.944687</td>\n",
        "      <td> 0.042514</td>\n",
        "      <td> 0.003894</td>\n",
        "      <td> 0.004680</td>\n",
        "      <td> 2</td>\n",
        "    </tr>\n",
        "    <tr>\n",
        "      <th>28 </th>\n",
        "      <td> 0.005226</td>\n",
        "      <td> 0.936991</td>\n",
        "      <td> 0.031968</td>\n",
        "      <td> 0.022512</td>\n",
        "      <td> 0.003302</td>\n",
        "      <td> 2</td>\n",
        "    </tr>\n",
        "    <tr>\n",
        "      <th>29 </th>\n",
        "      <td> 0.060169</td>\n",
        "      <td> 0.905453</td>\n",
        "      <td> 0.028043</td>\n",
        "      <td> 0.002835</td>\n",
        "      <td> 0.003500</td>\n",
        "      <td> 2</td>\n",
        "    </tr>\n",
        "    <tr>\n",
        "      <th>...</th>\n",
        "      <td>...</td>\n",
        "      <td>...</td>\n",
        "      <td>...</td>\n",
        "      <td>...</td>\n",
        "      <td>...</td>\n",
        "      <td>...</td>\n",
        "    </tr>\n",
        "    <tr>\n",
        "      <th>143</th>\n",
        "      <td> 0.130391</td>\n",
        "      <td> 0.623509</td>\n",
        "      <td> 0.148826</td>\n",
        "      <td> 0.078306</td>\n",
        "      <td> 0.018968</td>\n",
        "      <td> 2</td>\n",
        "    </tr>\n",
        "    <tr>\n",
        "      <th>144</th>\n",
        "      <td> 0.126296</td>\n",
        "      <td> 0.715064</td>\n",
        "      <td> 0.018934</td>\n",
        "      <td> 0.121733</td>\n",
        "      <td> 0.017972</td>\n",
        "      <td> 2</td>\n",
        "    </tr>\n",
        "    <tr>\n",
        "      <th>145</th>\n",
        "      <td> 0.063437</td>\n",
        "      <td> 0.695232</td>\n",
        "      <td> 0.086819</td>\n",
        "      <td> 0.136674</td>\n",
        "      <td> 0.017838</td>\n",
        "      <td> 2</td>\n",
        "    </tr>\n",
        "    <tr>\n",
        "      <th>146</th>\n",
        "      <td> 0.078073</td>\n",
        "      <td> 0.829263</td>\n",
        "      <td> 0.010649</td>\n",
        "      <td> 0.072547</td>\n",
        "      <td> 0.009468</td>\n",
        "      <td> 2</td>\n",
        "    </tr>\n",
        "    <tr>\n",
        "      <th>147</th>\n",
        "      <td> 0.063906</td>\n",
        "      <td> 0.831177</td>\n",
        "      <td> 0.022712</td>\n",
        "      <td> 0.072714</td>\n",
        "      <td> 0.009490</td>\n",
        "      <td> 2</td>\n",
        "    </tr>\n",
        "    <tr>\n",
        "      <th>148</th>\n",
        "      <td> 0.056226</td>\n",
        "      <td> 0.834623</td>\n",
        "      <td> 0.050699</td>\n",
        "      <td> 0.046378</td>\n",
        "      <td> 0.012073</td>\n",
        "      <td> 2</td>\n",
        "    </tr>\n",
        "    <tr>\n",
        "      <th>149</th>\n",
        "      <td> 0.133610</td>\n",
        "      <td> 0.724981</td>\n",
        "      <td> 0.031588</td>\n",
        "      <td> 0.095438</td>\n",
        "      <td> 0.014384</td>\n",
        "      <td> 2</td>\n",
        "    </tr>\n",
        "    <tr>\n",
        "      <th>150</th>\n",
        "      <td> 0.119589</td>\n",
        "      <td> 0.670357</td>\n",
        "      <td> 0.098951</td>\n",
        "      <td> 0.085423</td>\n",
        "      <td> 0.025679</td>\n",
        "      <td> 2</td>\n",
        "    </tr>\n",
        "    <tr>\n",
        "      <th>151</th>\n",
        "      <td> 0.067259</td>\n",
        "      <td> 0.847214</td>\n",
        "      <td> 0.015901</td>\n",
        "      <td> 0.055479</td>\n",
        "      <td> 0.014147</td>\n",
        "      <td> 2</td>\n",
        "    </tr>\n",
        "    <tr>\n",
        "      <th>152</th>\n",
        "      <td> 0.118028</td>\n",
        "      <td> 0.661611</td>\n",
        "      <td> 0.097660</td>\n",
        "      <td> 0.097356</td>\n",
        "      <td> 0.025344</td>\n",
        "      <td> 2</td>\n",
        "    </tr>\n",
        "    <tr>\n",
        "      <th>153</th>\n",
        "      <td> 0.067259</td>\n",
        "      <td> 0.847214</td>\n",
        "      <td> 0.015901</td>\n",
        "      <td> 0.055479</td>\n",
        "      <td> 0.014147</td>\n",
        "      <td> 2</td>\n",
        "    </tr>\n",
        "    <tr>\n",
        "      <th>154</th>\n",
        "      <td> 0.133457</td>\n",
        "      <td> 0.748096</td>\n",
        "      <td> 0.035652</td>\n",
        "      <td> 0.058102</td>\n",
        "      <td> 0.024693</td>\n",
        "      <td> 2</td>\n",
        "    </tr>\n",
        "    <tr>\n",
        "      <th>155</th>\n",
        "      <td> 0.284247</td>\n",
        "      <td> 0.348268</td>\n",
        "      <td> 0.073233</td>\n",
        "      <td> 0.234463</td>\n",
        "      <td> 0.059789</td>\n",
        "      <td> 2</td>\n",
        "    </tr>\n",
        "    <tr>\n",
        "      <th>156</th>\n",
        "      <td> 0.035543</td>\n",
        "      <td> 0.713970</td>\n",
        "      <td> 0.173487</td>\n",
        "      <td> 0.038218</td>\n",
        "      <td> 0.038781</td>\n",
        "      <td> 2</td>\n",
        "    </tr>\n",
        "    <tr>\n",
        "      <th>157</th>\n",
        "      <td> 0.219529</td>\n",
        "      <td> 0.360785</td>\n",
        "      <td> 0.210515</td>\n",
        "      <td> 0.091668</td>\n",
        "      <td> 0.117503</td>\n",
        "      <td> 2</td>\n",
        "    </tr>\n",
        "    <tr>\n",
        "      <th>158</th>\n",
        "      <td> 0.149985</td>\n",
        "      <td> 0.266446</td>\n",
        "      <td> 0.149941</td>\n",
        "      <td> 0.091946</td>\n",
        "      <td> 0.341683</td>\n",
        "      <td> 5</td>\n",
        "    </tr>\n",
        "    <tr>\n",
        "      <th>159</th>\n",
        "      <td> 0.368269</td>\n",
        "      <td> 0.234185</td>\n",
        "      <td> 0.134925</td>\n",
        "      <td> 0.080813</td>\n",
        "      <td> 0.181808</td>\n",
        "      <td> 1</td>\n",
        "    </tr>\n",
        "    <tr>\n",
        "      <th>160</th>\n",
        "      <td> 0.400207</td>\n",
        "      <td> 0.327194</td>\n",
        "      <td> 0.094070</td>\n",
        "      <td> 0.046876</td>\n",
        "      <td> 0.131654</td>\n",
        "      <td> 1</td>\n",
        "    </tr>\n",
        "    <tr>\n",
        "      <th>161</th>\n",
        "      <td> 0.429004</td>\n",
        "      <td> 0.176616</td>\n",
        "      <td> 0.208016</td>\n",
        "      <td> 0.146614</td>\n",
        "      <td> 0.039750</td>\n",
        "      <td> 1</td>\n",
        "    </tr>\n",
        "    <tr>\n",
        "      <th>162</th>\n",
        "      <td> 0.474871</td>\n",
        "      <td> 0.068722</td>\n",
        "      <td> 0.163087</td>\n",
        "      <td> 0.254407</td>\n",
        "      <td> 0.038913</td>\n",
        "      <td> 1</td>\n",
        "    </tr>\n",
        "    <tr>\n",
        "      <th>163</th>\n",
        "      <td> 0.171240</td>\n",
        "      <td> 0.181127</td>\n",
        "      <td> 0.456363</td>\n",
        "      <td> 0.074865</td>\n",
        "      <td> 0.116405</td>\n",
        "      <td> 3</td>\n",
        "    </tr>\n",
        "    <tr>\n",
        "      <th>164</th>\n",
        "      <td> 0.160967</td>\n",
        "      <td> 0.184973</td>\n",
        "      <td> 0.441454</td>\n",
        "      <td> 0.088733</td>\n",
        "      <td> 0.123874</td>\n",
        "      <td> 3</td>\n",
        "    </tr>\n",
        "    <tr>\n",
        "      <th>165</th>\n",
        "      <td> 0.199225</td>\n",
        "      <td> 0.170550</td>\n",
        "      <td> 0.508756</td>\n",
        "      <td> 0.056340</td>\n",
        "      <td> 0.065129</td>\n",
        "      <td> 3</td>\n",
        "    </tr>\n",
        "    <tr>\n",
        "      <th>166</th>\n",
        "      <td> 0.165428</td>\n",
        "      <td> 0.166139</td>\n",
        "      <td> 0.567571</td>\n",
        "      <td> 0.046782</td>\n",
        "      <td> 0.054080</td>\n",
        "      <td> 3</td>\n",
        "    </tr>\n",
        "    <tr>\n",
        "      <th>167</th>\n",
        "      <td> 0.131515</td>\n",
        "      <td> 0.177146</td>\n",
        "      <td> 0.528747</td>\n",
        "      <td> 0.102218</td>\n",
        "      <td> 0.060374</td>\n",
        "      <td> 3</td>\n",
        "    </tr>\n",
        "    <tr>\n",
        "      <th>168</th>\n",
        "      <td> 0.033130</td>\n",
        "      <td> 0.627634</td>\n",
        "      <td> 0.156197</td>\n",
        "      <td> 0.168343</td>\n",
        "      <td> 0.014696</td>\n",
        "      <td> 2</td>\n",
        "    </tr>\n",
        "    <tr>\n",
        "      <th>169</th>\n",
        "      <td> 0.034706</td>\n",
        "      <td> 0.412148</td>\n",
        "      <td> 0.226977</td>\n",
        "      <td> 0.304815</td>\n",
        "      <td> 0.021355</td>\n",
        "      <td> 2</td>\n",
        "    </tr>\n",
        "    <tr>\n",
        "      <th>170</th>\n",
        "      <td> 0.023000</td>\n",
        "      <td> 0.644012</td>\n",
        "      <td> 0.102672</td>\n",
        "      <td> 0.215236</td>\n",
        "      <td> 0.015079</td>\n",
        "      <td> 2</td>\n",
        "    </tr>\n",
        "    <tr>\n",
        "      <th>171</th>\n",
        "      <td> 0.022139</td>\n",
        "      <td> 0.280128</td>\n",
        "      <td> 0.099459</td>\n",
        "      <td> 0.583759</td>\n",
        "      <td> 0.014515</td>\n",
        "      <td> 4</td>\n",
        "    </tr>\n",
        "    <tr>\n",
        "      <th>172</th>\n",
        "      <td> 0.019158</td>\n",
        "      <td> 0.296536</td>\n",
        "      <td> 0.088398</td>\n",
        "      <td> 0.583346</td>\n",
        "      <td> 0.012560</td>\n",
        "      <td> 4</td>\n",
        "    </tr>\n",
        "  </tbody>\n",
        "</table>\n",
        "<p>173 rows \u00d7 6 columns</p>\n",
        "</div>"
       ],
       "metadata": {},
       "output_type": "pyout",
       "prompt_number": 437,
       "text": [
        "      Nucleus   Vessels  Cell Body  Progress  Background  Predicted\n",
        "0    0.004346  0.907481   0.081508  0.002947    0.003718          2\n",
        "1    0.004346  0.907481   0.081508  0.002947    0.003718          2\n",
        "2    0.004588  0.911348   0.077709  0.002810    0.003545          2\n",
        "3    0.002495  0.942222   0.050872  0.001951    0.002461          2\n",
        "4    0.004145  0.911753   0.077744  0.002811    0.003546          2\n",
        "5    0.004976  0.894067   0.093325  0.003375    0.004257          2\n",
        "6    0.004374  0.894608   0.093381  0.003377    0.004260          2\n",
        "7    0.297120  0.055313   0.583388  0.026746    0.037433          3\n",
        "8    0.321268  0.053399   0.563202  0.025821    0.036311          3\n",
        "9    0.285289  0.060853   0.592235  0.025681    0.035942          3\n",
        "10   0.308901  0.058828   0.572531  0.024827    0.034913          3\n",
        "11   0.312638  0.077058   0.532269  0.032520    0.045514          3\n",
        "12   0.340128  0.067159   0.517014  0.031588    0.044111          3\n",
        "13   0.268693  0.056367   0.611404  0.026512    0.037023          3\n",
        "14   0.189977  0.082441   0.634659  0.038776    0.054148          3\n",
        "15   0.189977  0.082441   0.634659  0.038776    0.054148          3\n",
        "16   0.081083  0.055575   0.802391  0.024448    0.036503          3\n",
        "17   0.077146  0.061982   0.811796  0.023141    0.025935          3\n",
        "18   0.050456  0.181243   0.636383  0.053748    0.078170          3\n",
        "19   0.014258  0.939852   0.023000  0.009435    0.013455          2\n",
        "20   0.012211  0.942240   0.022672  0.008080    0.014796          2\n",
        "21   0.012188  0.940402   0.022628  0.008064    0.016718          2\n",
        "22   0.014193  0.935567   0.024181  0.009392    0.016667          2\n",
        "23   0.029351  0.860960   0.050005  0.019422    0.040263          2\n",
        "24   0.014215  0.936989   0.025976  0.009406    0.013414          2\n",
        "25   0.003938  0.935750   0.053245  0.002704    0.004363          2\n",
        "26   0.003865  0.961657   0.029973  0.001979    0.002526          2\n",
        "27   0.004225  0.944687   0.042514  0.003894    0.004680          2\n",
        "28   0.005226  0.936991   0.031968  0.022512    0.003302          2\n",
        "29   0.060169  0.905453   0.028043  0.002835    0.003500          2\n",
        "..        ...       ...        ...       ...         ...        ...\n",
        "143  0.130391  0.623509   0.148826  0.078306    0.018968          2\n",
        "144  0.126296  0.715064   0.018934  0.121733    0.017972          2\n",
        "145  0.063437  0.695232   0.086819  0.136674    0.017838          2\n",
        "146  0.078073  0.829263   0.010649  0.072547    0.009468          2\n",
        "147  0.063906  0.831177   0.022712  0.072714    0.009490          2\n",
        "148  0.056226  0.834623   0.050699  0.046378    0.012073          2\n",
        "149  0.133610  0.724981   0.031588  0.095438    0.014384          2\n",
        "150  0.119589  0.670357   0.098951  0.085423    0.025679          2\n",
        "151  0.067259  0.847214   0.015901  0.055479    0.014147          2\n",
        "152  0.118028  0.661611   0.097660  0.097356    0.025344          2\n",
        "153  0.067259  0.847214   0.015901  0.055479    0.014147          2\n",
        "154  0.133457  0.748096   0.035652  0.058102    0.024693          2\n",
        "155  0.284247  0.348268   0.073233  0.234463    0.059789          2\n",
        "156  0.035543  0.713970   0.173487  0.038218    0.038781          2\n",
        "157  0.219529  0.360785   0.210515  0.091668    0.117503          2\n",
        "158  0.149985  0.266446   0.149941  0.091946    0.341683          5\n",
        "159  0.368269  0.234185   0.134925  0.080813    0.181808          1\n",
        "160  0.400207  0.327194   0.094070  0.046876    0.131654          1\n",
        "161  0.429004  0.176616   0.208016  0.146614    0.039750          1\n",
        "162  0.474871  0.068722   0.163087  0.254407    0.038913          1\n",
        "163  0.171240  0.181127   0.456363  0.074865    0.116405          3\n",
        "164  0.160967  0.184973   0.441454  0.088733    0.123874          3\n",
        "165  0.199225  0.170550   0.508756  0.056340    0.065129          3\n",
        "166  0.165428  0.166139   0.567571  0.046782    0.054080          3\n",
        "167  0.131515  0.177146   0.528747  0.102218    0.060374          3\n",
        "168  0.033130  0.627634   0.156197  0.168343    0.014696          2\n",
        "169  0.034706  0.412148   0.226977  0.304815    0.021355          2\n",
        "170  0.023000  0.644012   0.102672  0.215236    0.015079          2\n",
        "171  0.022139  0.280128   0.099459  0.583759    0.014515          4\n",
        "172  0.019158  0.296536   0.088398  0.583346    0.012560          4\n",
        "\n",
        "[173 rows x 6 columns]"
       ]
      }
     ],
     "prompt_number": 437
    },
    {
     "cell_type": "code",
     "collapsed": false,
     "input": [
      "from tsne import *\n",
      "#perm=np.random.permutation(np.size(Y_train))\n",
      "#X_train_red=np.array(X_train)[perm,:]\n",
      "#Y_train_red=np.array(Y_train)[perm]\n",
      "\n",
      "aux = np.concatenate((X_train,X_test),axis=0)\n",
      "#aux = X_test\n",
      "#aux = aux + 0.1*np.random.rand(np.shape(aux)[0],np.shape(aux)[1])\n",
      "Y = tsne(np.float64(aux), 2, 6, 20.0);"
     ],
     "language": "python",
     "metadata": {},
     "outputs": [
      {
       "output_type": "stream",
       "stream": "stdout",
       "text": [
        "Preprocessing the data using PCA...\n",
        "Computing pairwise distances...\n",
        "Computing P-values for point  0  of  1045 ...\n",
        "Computing P-values for point "
       ]
      },
      {
       "output_type": "stream",
       "stream": "stdout",
       "text": [
        " 500  of  1045 ...\n",
        "Computing P-values for point "
       ]
      },
      {
       "output_type": "stream",
       "stream": "stdout",
       "text": [
        " 1000  of  1045 ...\n",
        "Mean value of sigma: "
       ]
      },
      {
       "output_type": "stream",
       "stream": "stdout",
       "text": [
        " 0.826156609787\n",
        "Iteration "
       ]
      },
      {
       "output_type": "stream",
       "stream": "stdout",
       "text": [
        " 10 : error is  19.6304917237\n",
        "Iteration "
       ]
      },
      {
       "output_type": "stream",
       "stream": "stdout",
       "text": [
        " 20 : error is  16.5878516504\n",
        "Iteration "
       ]
      },
      {
       "output_type": "stream",
       "stream": "stdout",
       "text": [
        " 30 : error is  14.1476423751\n",
        "Iteration "
       ]
      },
      {
       "output_type": "stream",
       "stream": "stdout",
       "text": [
        " 40 : error is  13.0314045814\n",
        "Iteration "
       ]
      },
      {
       "output_type": "stream",
       "stream": "stdout",
       "text": [
        " 50 : error is  12.636178853\n",
        "Iteration "
       ]
      },
      {
       "output_type": "stream",
       "stream": "stdout",
       "text": [
        " 60 : error is  12.45169432\n",
        "Iteration "
       ]
      },
      {
       "output_type": "stream",
       "stream": "stdout",
       "text": [
        " 70 : error is  12.339947381\n",
        "Iteration "
       ]
      },
      {
       "output_type": "stream",
       "stream": "stdout",
       "text": [
        " 80 : error is  12.249701452\n",
        "Iteration "
       ]
      },
      {
       "output_type": "stream",
       "stream": "stdout",
       "text": [
        " 90 : error is  12.1810078717\n",
        "Iteration "
       ]
      },
      {
       "output_type": "stream",
       "stream": "stdout",
       "text": [
        " 100 : error is  12.1352807269\n",
        "Iteration "
       ]
      },
      {
       "output_type": "stream",
       "stream": "stdout",
       "text": [
        " 110 : error is  1.40639184229\n",
        "Iteration "
       ]
      },
      {
       "output_type": "stream",
       "stream": "stdout",
       "text": [
        " 120 : error is  1.18873167883\n",
        "Iteration "
       ]
      },
      {
       "output_type": "stream",
       "stream": "stdout",
       "text": [
        " 130 : error is  1.01121336092\n",
        "Iteration "
       ]
      },
      {
       "output_type": "stream",
       "stream": "stdout",
       "text": [
        " 140 : error is  0.883488589927\n",
        "Iteration "
       ]
      },
      {
       "output_type": "stream",
       "stream": "stdout",
       "text": [
        " 150 : error is  0.79475043187\n",
        "Iteration "
       ]
      },
      {
       "output_type": "stream",
       "stream": "stdout",
       "text": [
        " 160 : error is  0.733477994479\n",
        "Iteration "
       ]
      },
      {
       "output_type": "stream",
       "stream": "stdout",
       "text": [
        " 170 : error is  0.689380839751\n",
        "Iteration "
       ]
      },
      {
       "output_type": "stream",
       "stream": "stdout",
       "text": [
        " 180 : error is  0.655765344428\n",
        "Iteration "
       ]
      },
      {
       "output_type": "stream",
       "stream": "stdout",
       "text": [
        " 190 : error is  0.629189069683\n",
        "Iteration "
       ]
      },
      {
       "output_type": "stream",
       "stream": "stdout",
       "text": [
        " 200 : error is  0.607750984447\n",
        "Iteration "
       ]
      },
      {
       "output_type": "stream",
       "stream": "stdout",
       "text": [
        " 210 : error is  0.59061249542\n",
        "Iteration "
       ]
      },
      {
       "output_type": "stream",
       "stream": "stdout",
       "text": [
        " 220 : error is  0.576525454921\n",
        "Iteration "
       ]
      },
      {
       "output_type": "stream",
       "stream": "stdout",
       "text": [
        " 230 : error is  0.564707574667\n",
        "Iteration "
       ]
      },
      {
       "output_type": "stream",
       "stream": "stdout",
       "text": [
        " 240 : error is  0.554778508635\n",
        "Iteration "
       ]
      },
      {
       "output_type": "stream",
       "stream": "stdout",
       "text": [
        " 250 : error is  0.546367793978\n",
        "Iteration "
       ]
      },
      {
       "output_type": "stream",
       "stream": "stdout",
       "text": [
        " 260 : error is  0.539148614285\n",
        "Iteration "
       ]
      },
      {
       "output_type": "stream",
       "stream": "stdout",
       "text": [
        " 270 : error is  0.532837508729\n",
        "Iteration "
       ]
      },
      {
       "output_type": "stream",
       "stream": "stdout",
       "text": [
        " 280 : error is  0.527264483223\n",
        "Iteration "
       ]
      },
      {
       "output_type": "stream",
       "stream": "stdout",
       "text": [
        " 290 : error is  0.522342292526\n",
        "Iteration "
       ]
      },
      {
       "output_type": "stream",
       "stream": "stdout",
       "text": [
        " 300 : error is  0.518038861005\n",
        "Iteration "
       ]
      },
      {
       "output_type": "stream",
       "stream": "stdout",
       "text": [
        " 310 : error is  0.514154786679\n",
        "Iteration "
       ]
      },
      {
       "output_type": "stream",
       "stream": "stdout",
       "text": [
        " 320 : error is  0.510635000324\n",
        "Iteration "
       ]
      },
      {
       "output_type": "stream",
       "stream": "stdout",
       "text": [
        " 330 : error is  0.507521419262\n",
        "Iteration "
       ]
      },
      {
       "output_type": "stream",
       "stream": "stdout",
       "text": [
        " 340 : error is  0.504688572903\n",
        "Iteration "
       ]
      },
      {
       "output_type": "stream",
       "stream": "stdout",
       "text": [
        " 350 : error is  0.502099696479\n",
        "Iteration "
       ]
      },
      {
       "output_type": "stream",
       "stream": "stdout",
       "text": [
        " 360 : error is  0.499738998727\n",
        "Iteration "
       ]
      },
      {
       "output_type": "stream",
       "stream": "stdout",
       "text": [
        " 370 : error is  0.497560778839\n",
        "Iteration "
       ]
      },
      {
       "output_type": "stream",
       "stream": "stdout",
       "text": [
        " 380 : error is  0.495543298569\n",
        "Iteration "
       ]
      },
      {
       "output_type": "stream",
       "stream": "stdout",
       "text": [
        " 390 : error is  0.493680898347\n",
        "Iteration "
       ]
      },
      {
       "output_type": "stream",
       "stream": "stdout",
       "text": [
        " 400 : error is  0.491951159035\n",
        "Iteration "
       ]
      },
      {
       "output_type": "stream",
       "stream": "stdout",
       "text": [
        " 410 : error is  0.490346530902\n",
        "Iteration "
       ]
      },
      {
       "output_type": "stream",
       "stream": "stdout",
       "text": [
        " 420 : error is  0.488849195242\n",
        "Iteration "
       ]
      },
      {
       "output_type": "stream",
       "stream": "stdout",
       "text": [
        " 430 : error is  0.487462496009\n",
        "Iteration "
       ]
      },
      {
       "output_type": "stream",
       "stream": "stdout",
       "text": [
        " 440 : error is  0.486165288423\n",
        "Iteration "
       ]
      },
      {
       "output_type": "stream",
       "stream": "stdout",
       "text": [
        " 450 : error is  0.484941479229\n",
        "Iteration "
       ]
      },
      {
       "output_type": "stream",
       "stream": "stdout",
       "text": [
        " 460 : error is  0.483776663015\n",
        "Iteration "
       ]
      },
      {
       "output_type": "stream",
       "stream": "stdout",
       "text": [
        " 470 : error is  0.48267476909\n",
        "Iteration "
       ]
      },
      {
       "output_type": "stream",
       "stream": "stdout",
       "text": [
        " 480 : error is  0.481635352817\n",
        "Iteration "
       ]
      },
      {
       "output_type": "stream",
       "stream": "stdout",
       "text": [
        " 490 : error is  0.480662007729\n",
        "Iteration "
       ]
      },
      {
       "output_type": "stream",
       "stream": "stdout",
       "text": [
        " 500 : error is  0.479746177735\n",
        "Iteration "
       ]
      },
      {
       "output_type": "stream",
       "stream": "stdout",
       "text": [
        " 510 : error is  0.478863718191\n",
        "Iteration "
       ]
      },
      {
       "output_type": "stream",
       "stream": "stdout",
       "text": [
        " 520 : error is  0.478016537232\n",
        "Iteration "
       ]
      },
      {
       "output_type": "stream",
       "stream": "stdout",
       "text": [
        " 530 : error is  0.477213184694\n",
        "Iteration "
       ]
      },
      {
       "output_type": "stream",
       "stream": "stdout",
       "text": [
        " 540 : error is  0.476449611278\n",
        "Iteration "
       ]
      },
      {
       "output_type": "stream",
       "stream": "stdout",
       "text": [
        " 550 : error is  0.475723252195\n",
        "Iteration "
       ]
      },
      {
       "output_type": "stream",
       "stream": "stdout",
       "text": [
        " 560 : error is  0.475033637689\n",
        "Iteration "
       ]
      },
      {
       "output_type": "stream",
       "stream": "stdout",
       "text": [
        " 570 : error is  0.474364997497\n",
        "Iteration "
       ]
      },
      {
       "output_type": "stream",
       "stream": "stdout",
       "text": [
        " 580 : error is  0.473708766603\n",
        "Iteration "
       ]
      },
      {
       "output_type": "stream",
       "stream": "stdout",
       "text": [
        " 590 : error is  0.473087239618\n",
        "Iteration "
       ]
      },
      {
       "output_type": "stream",
       "stream": "stdout",
       "text": [
        " 600 : error is  0.47250539907\n",
        "Iteration "
       ]
      },
      {
       "output_type": "stream",
       "stream": "stdout",
       "text": [
        " 610 : error is  0.471949428923\n",
        "Iteration "
       ]
      },
      {
       "output_type": "stream",
       "stream": "stdout",
       "text": [
        " 620 : error is  0.471407227021\n",
        "Iteration "
       ]
      },
      {
       "output_type": "stream",
       "stream": "stdout",
       "text": [
        " 630 : error is  0.470875822554\n",
        "Iteration "
       ]
      },
      {
       "output_type": "stream",
       "stream": "stdout",
       "text": [
        " 640 : error is  0.470365074127\n",
        "Iteration "
       ]
      },
      {
       "output_type": "stream",
       "stream": "stdout",
       "text": [
        " 650 : error is  0.469876298958\n",
        "Iteration "
       ]
      },
      {
       "output_type": "stream",
       "stream": "stdout",
       "text": [
        " 660 : error is  0.469403817988\n",
        "Iteration "
       ]
      },
      {
       "output_type": "stream",
       "stream": "stdout",
       "text": [
        " 670 : error is  0.468948008311\n",
        "Iteration "
       ]
      },
      {
       "output_type": "stream",
       "stream": "stdout",
       "text": [
        " 680 : error is  0.468510048105\n",
        "Iteration "
       ]
      },
      {
       "output_type": "stream",
       "stream": "stdout",
       "text": [
        " 690 : error is  0.468082538371\n",
        "Iteration "
       ]
      },
      {
       "output_type": "stream",
       "stream": "stdout",
       "text": [
        " 700 : error is  0.467663717713\n",
        "Iteration "
       ]
      },
      {
       "output_type": "stream",
       "stream": "stdout",
       "text": [
        " 710 : error is  0.467262549156\n",
        "Iteration "
       ]
      },
      {
       "output_type": "stream",
       "stream": "stdout",
       "text": [
        " 720 : error is  0.466877953319\n",
        "Iteration "
       ]
      },
      {
       "output_type": "stream",
       "stream": "stdout",
       "text": [
        " 730 : error is  0.466504703784\n",
        "Iteration "
       ]
      },
      {
       "output_type": "stream",
       "stream": "stdout",
       "text": [
        " 740 : error is  0.466140649922\n",
        "Iteration "
       ]
      },
      {
       "output_type": "stream",
       "stream": "stdout",
       "text": [
        " 750 : error is  0.465785599115\n",
        "Iteration "
       ]
      },
      {
       "output_type": "stream",
       "stream": "stdout",
       "text": [
        " 760 : error is  0.465438983505\n",
        "Iteration "
       ]
      },
      {
       "output_type": "stream",
       "stream": "stdout",
       "text": [
        " 770 : error is  0.465107971865\n",
        "Iteration "
       ]
      },
      {
       "output_type": "stream",
       "stream": "stdout",
       "text": [
        " 780 : error is  0.464784074295\n",
        "Iteration "
       ]
      },
      {
       "output_type": "stream",
       "stream": "stdout",
       "text": [
        " 790 : error is  0.464465575297\n",
        "Iteration "
       ]
      },
      {
       "output_type": "stream",
       "stream": "stdout",
       "text": [
        " 800 : error is  0.464158471202\n",
        "Iteration "
       ]
      },
      {
       "output_type": "stream",
       "stream": "stdout",
       "text": [
        " 810 : error is  0.463861270639\n",
        "Iteration "
       ]
      },
      {
       "output_type": "stream",
       "stream": "stdout",
       "text": [
        " 820 : error is  0.463570495246\n",
        "Iteration "
       ]
      },
      {
       "output_type": "stream",
       "stream": "stdout",
       "text": [
        " 830 : error is  0.46328514487\n",
        "Iteration "
       ]
      },
      {
       "output_type": "stream",
       "stream": "stdout",
       "text": [
        " 840 : error is  0.463006238375\n",
        "Iteration "
       ]
      },
      {
       "output_type": "stream",
       "stream": "stdout",
       "text": [
        " 850 : error is  0.462736337482\n",
        "Iteration "
       ]
      },
      {
       "output_type": "stream",
       "stream": "stdout",
       "text": [
        " 860 : error is  0.462473914893\n",
        "Iteration "
       ]
      },
      {
       "output_type": "stream",
       "stream": "stdout",
       "text": [
        " 870 : error is  0.462216638889\n",
        "Iteration "
       ]
      },
      {
       "output_type": "stream",
       "stream": "stdout",
       "text": [
        " 880 : error is  0.461966830693\n",
        "Iteration "
       ]
      },
      {
       "output_type": "stream",
       "stream": "stdout",
       "text": [
        " 890 : error is  0.461724140562\n",
        "Iteration "
       ]
      },
      {
       "output_type": "stream",
       "stream": "stdout",
       "text": [
        " 900 : error is  0.461486066549\n",
        "Iteration "
       ]
      },
      {
       "output_type": "stream",
       "stream": "stdout",
       "text": [
        " 910 : error is  0.461251587955\n",
        "Iteration "
       ]
      },
      {
       "output_type": "stream",
       "stream": "stdout",
       "text": [
        " 920 : error is  0.461024295058\n",
        "Iteration "
       ]
      },
      {
       "output_type": "stream",
       "stream": "stdout",
       "text": [
        " 930 : error is  0.46080049641\n",
        "Iteration "
       ]
      },
      {
       "output_type": "stream",
       "stream": "stdout",
       "text": [
        " 940 : error is  0.46057817019\n",
        "Iteration "
       ]
      },
      {
       "output_type": "stream",
       "stream": "stdout",
       "text": [
        " 950 : error is  0.460362512538\n",
        "Iteration "
       ]
      },
      {
       "output_type": "stream",
       "stream": "stdout",
       "text": [
        " 960 : error is  0.460155511623\n",
        "Iteration "
       ]
      },
      {
       "output_type": "stream",
       "stream": "stdout",
       "text": [
        " 970 : error is  0.459954111766\n",
        "Iteration "
       ]
      },
      {
       "output_type": "stream",
       "stream": "stdout",
       "text": [
        " 980 : error is  0.459755024786\n",
        "Iteration "
       ]
      },
      {
       "output_type": "stream",
       "stream": "stdout",
       "text": [
        " 990 : error is  0.459558364377\n",
        "Iteration "
       ]
      },
      {
       "output_type": "stream",
       "stream": "stdout",
       "text": [
        " 1000 : error is  0.459368067547\n"
       ]
      }
     ],
     "prompt_number": 430
    },
    {
     "cell_type": "code",
     "collapsed": false,
     "input": [
      "Error=-np.log([np.array(Y_pred_Tot)[i,Y_train[i]] for i in range(np.shape(Y_pred_Tot)[0])])\n",
      "Error2=-np.log([np.array(Yt_pred)[i,Y_test[i]] for i in range(np.shape(Yt_pred)[0])])\n",
      "ErrorT = np.concatenate((np.atleast_2d(Error),np.atleast_2d(Error2)),axis=1)\n",
      "\n",
      "x = np.array([\"black\",\"black\"])\n",
      "RSet = np.repeat(x, [0, np.size(Error)], axis=0)\n",
      "x = np.array([\"red\",\"red\"])\n",
      "TSet = np.repeat(x, [0, np.size(Error2)], axis=0)\n",
      "Set = np.concatenate((np.atleast_2d(RSet),np.atleast_2d(TSet)),axis=1)\n",
      "import plotly.plotly as py\n",
      "#Error_red = Error[perm]\n",
      "#Error = error=np.random.rand(1,1000)\n",
      "\n",
      "labels = np.concatenate((Y_train,Y_test),axis=0)\n",
      "#labels = Y_test\n",
      "fig, ax = fig, ax = plt.subplots()\n",
      "plt.scatter(Y[:,0], Y[:,1], s=np.maximum(500*ErrorT,10), c=labels,  alpha=0.8,cmap=plt.cm.Set1, edgecolor=Set[0]);\n",
      "#plt.legend(label='a')\n",
      "py.iplot_mpl(fig)"
     ],
     "language": "python",
     "metadata": {},
     "outputs": [
      {
       "html": [
        "<iframe id=\"igraph\" scrolling=\"no\" style=\"border:none;\"seamless=\"seamless\" src=\"https://plot.ly/~hugoguh/120.embed\" height=\"525\" width=\"100%\"></iframe>"
       ],
       "metadata": {},
       "output_type": "pyout",
       "prompt_number": 431,
       "text": [
        "<plotly.tools.PlotlyDisplay at 0x1106bdbd0>"
       ]
      }
     ],
     "prompt_number": 431
    },
    {
     "cell_type": "code",
     "collapsed": false,
     "input": [
      "Set[0]"
     ],
     "language": "python",
     "metadata": {},
     "outputs": [
      {
       "metadata": {},
       "output_type": "pyout",
       "prompt_number": 426,
       "text": [
        "array(['red', 'red', 'red', ..., 'black', 'black', 'black'], \n",
        "      dtype='|S5')"
       ]
      }
     ],
     "prompt_number": 426
    },
    {
     "cell_type": "code",
     "collapsed": false,
     "input": [
      "fig, ax = fig, ax = plt.subplots()\n",
      "plt.scatter(np.array([1,2,3,4,5]), np.array([1,2,3,4,5]), s=200, c=np.array([1,2,3,4,5]), alpha=0.8,cmap=plt.cm.Set1);\n",
      "#plt.legend()\n",
      "py.iplot_mpl(fig)"
     ],
     "language": "python",
     "metadata": {},
     "outputs": [
      {
       "html": [
        "<iframe id=\"igraph\" scrolling=\"no\" style=\"border:none;\"seamless=\"seamless\" src=\"https://plot.ly/~hugoguh/119.embed\" height=\"525\" width=\"100%\"></iframe>"
       ],
       "metadata": {},
       "output_type": "pyout",
       "prompt_number": 429,
       "text": [
        "<plotly.tools.PlotlyDisplay at 0x10e5fe690>"
       ]
      }
     ],
     "prompt_number": 429
    },
    {
     "cell_type": "code",
     "collapsed": false,
     "input": [],
     "language": "python",
     "metadata": {},
     "outputs": []
    }
   ],
   "metadata": {}
  }
 ]
}