{
 "cells": [
  {
   "cell_type": "code",
   "execution_count": 20,
   "metadata": {
    "collapsed": false
   },
   "outputs": [
    {
     "data": {
      "text/plain": [
       "dict_keys(['Nmap_V3_A0_A3', 'Vmap_V0_A0', 'Nmap_V2_A1_A2', 'Nmap_V2_A2', 'Nmap_V0_A1', 'Nmap_V0_A0', 'Vmap_V1_A0', '__header__', 'Vmap_V2_A2', '__globals__', 'Nmap_V1_A0', 'V3_coord', 'V0_coord', 'V2_coord', '__version__', 'Vmap_V0_A1', 'V1_coord'])"
      ]
     },
     "execution_count": 20,
     "metadata": {},
     "output_type": "execute_result"
    }
   ],
   "source": [
    "import scipy.io as sio\n",
    "data = sio.loadmat('/Users/graywr1/code/xbrainnd/data/gt-xbrain/CombinedMats/AllGroundTruthVolumes.mat')\n",
    "data.viewkeys()"
   ]
  },
  {
   "cell_type": "code",
   "execution_count": 21,
   "metadata": {
    "collapsed": false
   },
   "outputs": [],
   "source": [
    "channels = ['Nmap_V0_A1', 'Nmap_V0_A0', 'Vmap_V0_A1', 'Vmap_V0_A0', \n",
    "       'Nmap_V1_A0', 'Vmap_V1_A0', 'Nmap_V2_A1_A2',\n",
    "       'Nmap_V2_A2', 'Vmap_V2_A2', 'Nmap_V3_A0_A3']\n",
    "\n",
    "coords = ['V0_coord','V0_coord','V0_coord','V0_coord',\n",
    "          'V1_coord','V1_coord', 'V2_coord', 'V2_coord',\n",
    "          'V2_coord','V2_coord','V3_coord']"
   ]
  },
  {
   "cell_type": "code",
   "execution_count": 22,
   "metadata": {
    "collapsed": false
   },
   "outputs": [
    {
     "name": "stdout",
     "output_type": "stream",
     "text": [
      "NmapV0A1\n",
      "NmapV0A0\n",
      "VmapV0A1\n",
      "VmapV0A0\n",
      "NmapV1A0\n",
      "VmapV1A0\n",
      "NmapV2A1A2\n",
      "NmapV2A2\n",
      "VmapV2A2\n",
      "NmapV3A0A3\n"
     ]
    }
   ],
   "source": [
    "import ndio.remote.neurodata as neurodata\n",
    "import time\n",
    "nd = neurodata()\n",
    "token = 'xbrain_rfr1'\n",
    "import numpy as np\n",
    "for i in range(0, len(channels)):\n",
    "    t = time.time()\n",
    "    vol = data[channels[i]]\n",
    "    vol = np.rollaxis(vol, 1)\n",
    "    channel = channels[i].replace('_','')\n",
    "    nd.create_channel(token,channel,neurodata.ANNOTATION,'uint32',0)\n",
    "    coord = data[coords[i]]\n",
    "    nd.post_cutout(token,channel,coord[0][0],coord[0][2],coord[0][4],vol,'uint32',0)\n",
    "    print channel\n",
    "print time.time()-t"
   ]
  },
  {
   "cell_type": "code",
   "execution_count": 18,
   "metadata": {
    "collapsed": false
   },
   "outputs": [
    {
     "name": "stdout",
     "output_type": "stream",
     "text": [
      "NmapV0A1\n",
      "NmapV0A0\n",
      "VmapV0A1\n",
      "VmapV0A0\n",
      "NmapV1A0\n",
      "VmapV1A0\n",
      "NmapV2A1A2\n",
      "NmapV2A2\n",
      "VmapV2A2\n",
      "NmapV3A0A3\n"
     ]
    }
   ],
   "source": [
    "if False:\n",
    "    for i in range(0, len(channels)):\n",
    "        channel = channels[i].replace('_','')\n",
    "        nd.delete_channel(token,channel)\n",
    "        print channel"
   ]
  },
  {
   "cell_type": "code",
   "execution_count": 19,
   "metadata": {
    "collapsed": false
   },
   "outputs": [
    {
     "name": "stdout",
     "output_type": "stream",
     "text": [
      "['Nmap_V0_A1', 'Nmap_V0_A0', 'Vmap_V0_A1', 'Vmap_V0_A0', 'Nmap_V1_A0', 'Vmap_V1_A0', 'Nmap_V2_A1_A2', 'Nmap_V2_A2', 'Vmap_V2_A2', 'Nmap_V3_A0_A3']\n"
     ]
    }
   ],
   "source": [
    "print channels"
   ]
  },
  {
   "cell_type": "code",
   "execution_count": null,
   "metadata": {
    "collapsed": true
   },
   "outputs": [],
   "source": []
  }
 ],
 "metadata": {
  "kernelspec": {
   "display_name": "Python 2",
   "language": "python",
   "name": "python2"
  },
  "language_info": {
   "codemirror_mode": {
    "name": "ipython",
    "version": 2
   },
   "file_extension": ".py",
   "mimetype": "text/x-python",
   "name": "python",
   "nbconvert_exporter": "python",
   "pygments_lexer": "ipython2",
   "version": "2.7.11"
  }
 },
 "nbformat": 4,
 "nbformat_minor": 0
}
